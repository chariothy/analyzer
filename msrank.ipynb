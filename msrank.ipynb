{
 "cells": [
  {
   "cell_type": "code",
   "execution_count": 1,
   "metadata": {},
   "outputs": [],
   "source": [
    "from IPython.core.interactiveshell import InteractiveShell\n",
    "InteractiveShell.ast_node_interactivity = \"all\""
   ]
  },
  {
   "cell_type": "code",
   "execution_count": 1,
   "metadata": {},
   "outputs": [
    {
     "ename": "ImportError",
     "evalue": "cannot import name 'msrank' from 'morningstar.query' (c:\\projects\\python\\analyzer\\morningstar\\query.py)",
     "output_type": "error",
     "traceback": [
      "\u001b[1;31m---------------------------------------------------------------------------\u001b[0m",
      "\u001b[1;31mImportError\u001b[0m                               Traceback (most recent call last)",
      "\u001b[1;32mc:\\projects\\python\\analyzer\\msrank.ipynb Cell 2'\u001b[0m in \u001b[0;36m<module>\u001b[1;34m\u001b[0m\n\u001b[0;32m      <a href='vscode-notebook-cell:/c%3A/projects/python/analyzer/msrank.ipynb#ch0000001?line=1'>2</a>\u001b[0m \u001b[39mimport\u001b[39;00m \u001b[39mimp\u001b[39;00m\u001b[39m,\u001b[39m \u001b[39mmorningstar\u001b[39;00m\n\u001b[0;32m      <a href='vscode-notebook-cell:/c%3A/projects/python/analyzer/msrank.ipynb#ch0000001?line=2'>3</a>\u001b[0m imp\u001b[39m.\u001b[39mreload(morningstar)\n\u001b[1;32m----> <a href='vscode-notebook-cell:/c%3A/projects/python/analyzer/msrank.ipynb#ch0000001?line=3'>4</a>\u001b[0m \u001b[39mfrom\u001b[39;00m \u001b[39mmorningstar\u001b[39;00m\u001b[39m.\u001b[39;00m\u001b[39mquery\u001b[39;00m \u001b[39mimport\u001b[39;00m query_fund, msrank\n\u001b[0;32m      <a href='vscode-notebook-cell:/c%3A/projects/python/analyzer/msrank.ipynb#ch0000001?line=5'>6</a>\u001b[0m \u001b[39mimport\u001b[39;00m \u001b[39mutils\u001b[39;00m\n\u001b[0;32m      <a href='vscode-notebook-cell:/c%3A/projects/python/analyzer/msrank.ipynb#ch0000001?line=6'>7</a>\u001b[0m imp\u001b[39m.\u001b[39mreload(utils)\n",
      "\u001b[1;31mImportError\u001b[0m: cannot import name 'msrank' from 'morningstar.query' (c:\\projects\\python\\analyzer\\morningstar\\query.py)"
     ]
    }
   ],
   "source": [
    "from os import path\n",
    "import imp, morningstar\n",
    "imp.reload(morningstar)\n",
    "from morningstar.query import query_fund, msrank\n",
    "\n",
    "import utils\n",
    "imp.reload(utils)\n",
    "from utils import AnalyzerUtil\n",
    "su = AnalyzerUtil('msrank')\n",
    "\n",
    "print(su['mysql.db'])\n",
    "\n",
    "#df = msrank.query_fund(\"b.name LIKE '%100%' OR b.name LIKE '%300%' or b.name LIKE '%500%'\")\n",
    "df = msrank.query_fund(\"c.id = 'CHCA000049'\")\n",
    "df = msrank.export_fund(df)\n",
    "df"
   ]
  },
  {
   "cell_type": "code",
   "execution_count": 12,
   "metadata": {},
   "outputs": [
    {
     "name": "stdout",
     "output_type": "stream",
     "text": [
      "2022-04-27 09:41:39,320 INFO sqlalchemy.engine.Engine SELECT @@sql_mode\n",
      "2022-04-27 09:41:39,321 INFO sqlalchemy.engine.Engine [raw sql] {}\n",
      "2022-04-27 09:41:39,336 INFO sqlalchemy.engine.Engine SELECT @@lower_case_table_names\n",
      "2022-04-27 09:41:39,337 INFO sqlalchemy.engine.Engine [raw sql] {}\n",
      "2022-04-27 09:41:39,679 INFO sqlalchemy.engine.Engine SELECT DATABASE()\n",
      "2022-04-27 09:41:39,680 INFO sqlalchemy.engine.Engine [raw sql] {}\n",
      "2022-04-27 09:41:39,719 INFO sqlalchemy.engine.Engine SELECT COUNT(*) FROM information_schema.tables WHERE table_schema = %(table_schema)s AND table_name = %(table_name)s\n",
      "2022-04-27 09:41:39,720 INFO sqlalchemy.engine.Engine [generated in 0.00656s] {'table_schema': 'website', 'table_name': \"\\nSELECT b.code AS code, b.name AS fund_name, c.name AS cat_name, c.banchmark AS banchmark, b.class_id AS class_id\\n, b.reg_date AS reg_date, b.favor ... (1876 characters truncated) ...  FROM spd_ms_fund_return WHERE CODE=b.code)\\nAND p.portfolio_date = (SELECT MAX(portfolio_date) FROM spd_ms_fund_portfolio WHERE CODE=b.CODE)\\n\\n    \"}\n",
      "2022-04-27 09:41:39,786 INFO sqlalchemy.engine.Engine \n",
      "SELECT b.code AS code, b.name AS fund_name, c.name AS cat_name, c.banchmark AS banchmark, b.class_id AS class_id\n",
      ", b.reg_date AS reg_date, b.favorite\n",
      ", round(json_value(b.fee, '$.Management')+json_value(b.fee, '$.Custodial')+json_value(b.fee, '$.Distribution'),2) AS fee, f.free_at\n",
      ", r.y2_risk_rating AS y2riskr, r.y3_risk_rating AS y3riskr, r.y5_risk_rating AS y5riskr\n",
      ", r.y3_ms_rating AS y3msr, r.y5_ms_rating AS y5msr\n",
      ", r.y3_ms_risk AS y3risk, r.y5_ms_risk AS y5risk\n",
      ", r.y3_std AS y3std, r.y5_std AS y5std\n",
      ", r.y3_sharp AS y3sharp, r.y5_sharp AS y5sharp\n",
      ", r.alpha_ind AS alphai, r.beta_ind AS betai, r.r2_ind AS r2i\n",
      ", r.worst_m3_return AS w3r, r.worst_m6_return AS w6r, r.rating_date AS rating_date\n",
      ", e.m1_return AS m1r, e.m3_return AS m3r, e.m6_return AS m6r\n",
      ", e.ytd_return AS ytdr, e.y1_return AS y1r, e.y2_return AS y2r, e.y3_return AS y3r, e.y5_return AS y5r\n",
      ", e.return_date AS return_date\n",
      ", e.asset AS asset, p.cash_p AS cash_p, p.stock_p AS stock_p, p.bond_p AS bond_p, p.other_p AS other_p, p.top_stock_w AS top_stockw, p.portfolio_date AS portfo_date \n",
      ", m.managers\n",
      "FROM spd_ms_category c, spd_ms_fund_base b, spd_ms_fund_rating r, spd_ms_fund_return e, spd_ms_fund_portfolio p\n",
      ", (SELECT b.code AS CODE, GROUP_CONCAT(CONCAT(jt.manager, ' (', during,')') SEPARATOR ', ') AS managers\n",
      "FROM spd_ms_fund_base b, json_table(b.manager, '$[*]' columns(\n",
      "\tmanager VARCHAR(10) path '$.ManagerName',\n",
      "\tduring VARCHAR(10) path '$.ManagementTime',\n",
      "   is_leave boolean path '$.Leave'\n",
      "\t)) as jt\n",
      "WHERE jt.is_leave=0 GROUP BY b.code) AS m\n",
      ", (SELECT b.code, free_at\n",
      "FROM spd_ms_fund_base b, json_table(b.fee, '$.Redemption[*]' columns(\n",
      "\tfree_at VARCHAR(50) path '$.key[0]',\n",
      "\tfee_r VARCHAR(10) path '$.value'\n",
      "\t)) as jt\n",
      "where fee_r='0.00%') as f\n",
      "WHERE b.category_id=c.class_id AND b.CODE=r.CODE AND b.CODE=e.CODE AND b.CODE=p.CODE and b.code=m.code and b.code=f.code\n",
      "AND r.rating_date = (SELECT max(rating_date) from spd_ms_fund_rating WHERE CODE=b.code)\n",
      "AND e.return_date = (SELECT max(return_date) FROM spd_ms_fund_return WHERE CODE=b.code)\n",
      "AND p.portfolio_date = (SELECT MAX(portfolio_date) FROM spd_ms_fund_portfolio WHERE CODE=b.CODE)\n",
      "\n",
      "    \n",
      "2022-04-27 09:41:39,787 INFO sqlalchemy.engine.Engine [raw sql] {}\n"
     ]
    }
   ],
   "source": [
    "import imp\n",
    "\n",
    "from morningstar import msrank\n",
    "imp.reload(msrank)\n",
    "top_fund_df = msrank.query_fund()\n",
    "rank_fund_df = msrank.rank_fund(top_fund_df)\n",
    "rank_fund_group_df = top_fund_df.groupby('cat_name')"
   ]
  },
  {
   "cell_type": "code",
   "execution_count": 8,
   "metadata": {},
   "outputs": [
    {
     "data": {
      "text/html": [
       "<div>\n",
       "<style scoped>\n",
       "    .dataframe tbody tr th:only-of-type {\n",
       "        vertical-align: middle;\n",
       "    }\n",
       "\n",
       "    .dataframe tbody tr th {\n",
       "        vertical-align: top;\n",
       "    }\n",
       "\n",
       "    .dataframe thead th {\n",
       "        text-align: right;\n",
       "    }\n",
       "</style>\n",
       "<table border=\"1\" class=\"dataframe\">\n",
       "  <thead>\n",
       "    <tr style=\"text-align: right;\">\n",
       "      <th></th>\n",
       "      <th>code</th>\n",
       "      <th>fund_name</th>\n",
       "      <th>cat_name</th>\n",
       "      <th>banchmark</th>\n",
       "      <th>class_id</th>\n",
       "      <th>reg_date</th>\n",
       "      <th>favorite</th>\n",
       "      <th>fee</th>\n",
       "      <th>free_at</th>\n",
       "      <th>y2riskr</th>\n",
       "      <th>...</th>\n",
       "      <th>y5r</th>\n",
       "      <th>return_date</th>\n",
       "      <th>asset</th>\n",
       "      <th>cash_p</th>\n",
       "      <th>stock_p</th>\n",
       "      <th>bond_p</th>\n",
       "      <th>other_p</th>\n",
       "      <th>top_stockw</th>\n",
       "      <th>portfo_date</th>\n",
       "      <th>managers</th>\n",
       "    </tr>\n",
       "  </thead>\n",
       "  <tbody>\n",
       "    <tr>\n",
       "      <th>1165</th>\n",
       "      <td>003547</td>\n",
       "      <td>鹏华丰禄债券</td>\n",
       "      <td>信用债</td>\n",
       "      <td>中证信用债指数</td>\n",
       "      <td>0P00018WDP</td>\n",
       "      <td>2016-10-27</td>\n",
       "      <td>1.0</td>\n",
       "      <td>0.4</td>\n",
       "      <td>1.0</td>\n",
       "      <td>4</td>\n",
       "      <td>...</td>\n",
       "      <td>6.24103</td>\n",
       "      <td>2022-03-31</td>\n",
       "      <td>25.3</td>\n",
       "      <td>2.11</td>\n",
       "      <td>0.0</td>\n",
       "      <td>122.12</td>\n",
       "      <td>-24.23</td>\n",
       "      <td>0.0</td>\n",
       "      <td>2021-12-31</td>\n",
       "      <td>刘涛 (5年159天)</td>\n",
       "    </tr>\n",
       "  </tbody>\n",
       "</table>\n",
       "<p>1 rows × 43 columns</p>\n",
       "</div>"
      ],
      "text/plain": [
       "        code fund_name cat_name banchmark    class_id    reg_date  favorite  \\\n",
       "1165  003547    鹏华丰禄债券      信用债   中证信用债指数  0P00018WDP  2016-10-27       1.0   \n",
       "\n",
       "      fee free_at  y2riskr  ...      y5r  return_date  asset  cash_p  stock_p  \\\n",
       "1165  0.4     1.0        4  ...  6.24103   2022-03-31   25.3    2.11      0.0   \n",
       "\n",
       "      bond_p  other_p  top_stockw  portfo_date     managers  \n",
       "1165  122.12   -24.23         0.0   2021-12-31  刘涛 (5年159天)  \n",
       "\n",
       "[1 rows x 43 columns]"
      ]
     },
     "execution_count": 8,
     "metadata": {},
     "output_type": "execute_result"
    }
   ],
   "source": [
    "df = rank_fund_group_df.get_group('信用债')\n",
    "df[df.code=='003547']\n"
   ]
  }
 ],
 "metadata": {
  "interpreter": {
   "hash": "be8d3e4fba62f85560d41c4c266635a0a742e9073a953d2dbfbfbcfe819b20b0"
  },
  "kernelspec": {
   "display_name": "Python 3.8.5 64-bit ('spiders': conda)",
   "name": "python3"
  },
  "language_info": {
   "codemirror_mode": {
    "name": "ipython",
    "version": 3
   },
   "file_extension": ".py",
   "mimetype": "text/x-python",
   "name": "python",
   "nbconvert_exporter": "python",
   "pygments_lexer": "ipython3",
   "version": "3.9.7"
  },
  "orig_nbformat": 4
 },
 "nbformat": 4,
 "nbformat_minor": 2
}
